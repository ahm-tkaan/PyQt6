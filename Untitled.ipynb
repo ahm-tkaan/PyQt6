{
 "cells": [
  {
   "cell_type": "code",
   "execution_count": 4,
   "id": "431dfc47-1857-4e5e-b398-0525d0ec90f7",
   "metadata": {},
   "outputs": [],
   "source": [
    "import tkinter as tk\n",
    "\n",
    "# Ana pencereyi oluşturma\n",
    "root = tk.Tk()\n",
    "\n",
    "# Pencere başlığı\n",
    "root.title(\"İlk Tkinter Uygulamam\")\n",
    "\n",
    "# Pencereyi ekranda gösterme\n",
    "root.mainloop()"
   ]
  }
 ],
 "metadata": {
  "kernelspec": {
   "display_name": "Python 3 (ipykernel)",
   "language": "python",
   "name": "python3"
  },
  "language_info": {
   "codemirror_mode": {
    "name": "ipython",
    "version": 3
   },
   "file_extension": ".py",
   "mimetype": "text/x-python",
   "name": "python",
   "nbconvert_exporter": "python",
   "pygments_lexer": "ipython3",
   "version": "3.12.7"
  }
 },
 "nbformat": 4,
 "nbformat_minor": 5
}
